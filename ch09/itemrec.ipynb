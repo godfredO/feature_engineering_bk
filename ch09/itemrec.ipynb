{
 "cells": [
  {
   "cell_type": "markdown",
   "metadata": {},
   "source": [
    "<b><h3>Item-Based Collaborative Filtering</h3></b>\n",
    "\n",
    "Our task will be to build a recommender for academic papers using a subsample of an academic publications structured dataset. The idea is to see if reasonably similar papers can be found in a timely and efficiet manner.\n",
    "\n",
    "Item-based collaborative filtering provides recommendations based on similarity between items. This works in two stages: first finding the similarity scores between items, then ranking all scores to find the top-N similar item recommendations.\n",
    "\n",
    "An item-based recommender performs three tasks:\n",
    "1. Generalize information about a thing or item.\n",
    "2. Score all other items to find ones 'like' this one.\n",
    "3. Return ranked scores + itmes."
   ]
  },
  {
   "cell_type": "code",
   "execution_count": 2,
   "metadata": {},
   "outputs": [],
   "source": [
    "import pandas as pd\n",
    "\n",
    "model_df = pd.read_csv('../datasets/archive_3/train.csv')"
   ]
  },
  {
   "cell_type": "code",
   "execution_count": 3,
   "metadata": {},
   "outputs": [
    {
     "data": {
      "text/plain": [
       "Index(['string', 'sectionName', 'label', 'citingPaperId', 'citedPaperId',\n",
       "       'excerpt_index', 'isKeyCitation', 'label2', 'citeEnd', 'citeStart',\n",
       "       'source', 'label_confidence', 'label2_confidence', 'id'],\n",
       "      dtype='object')"
      ]
     },
     "execution_count": 3,
     "metadata": {},
     "output_type": "execute_result"
    }
   ],
   "source": [
    "model_df.columns"
   ]
  },
  {
   "cell_type": "code",
   "execution_count": 4,
   "metadata": {},
   "outputs": [
    {
     "name": "stdout",
     "output_type": "stream",
     "text": [
      "<class 'pandas.core.frame.DataFrame'>\n",
      "RangeIndex: 8194 entries, 0 to 8193\n",
      "Data columns (total 14 columns):\n",
      " #   Column             Non-Null Count  Dtype  \n",
      "---  ------             --------------  -----  \n",
      " 0   string             8194 non-null   object \n",
      " 1   sectionName        7588 non-null   object \n",
      " 2   label              8194 non-null   int64  \n",
      " 3   citingPaperId      8194 non-null   object \n",
      " 4   citedPaperId       8194 non-null   object \n",
      " 5   excerpt_index      8194 non-null   int64  \n",
      " 6   isKeyCitation      8194 non-null   bool   \n",
      " 7   label2             8194 non-null   int64  \n",
      " 8   citeEnd            8194 non-null   int64  \n",
      " 9   citeStart          8194 non-null   int64  \n",
      " 10  source             8194 non-null   int64  \n",
      " 11  label_confidence   8194 non-null   float64\n",
      " 12  label2_confidence  8194 non-null   float64\n",
      " 13  id                 8194 non-null   object \n",
      "dtypes: bool(1), float64(2), int64(6), object(5)\n",
      "memory usage: 840.3+ KB\n"
     ]
    }
   ],
   "source": [
    "model_df.info()"
   ]
  },
  {
   "cell_type": "code",
   "execution_count": 5,
   "metadata": {},
   "outputs": [
    {
     "data": {
      "text/plain": [
       "(8194, 14)"
      ]
     },
     "execution_count": 5,
     "metadata": {},
     "output_type": "execute_result"
    }
   ],
   "source": [
    "model_df.shape"
   ]
  },
  {
   "cell_type": "code",
   "execution_count": 6,
   "metadata": {},
   "outputs": [
    {
     "data": {
      "text/html": [
       "<div>\n",
       "<style scoped>\n",
       "    .dataframe tbody tr th:only-of-type {\n",
       "        vertical-align: middle;\n",
       "    }\n",
       "\n",
       "    .dataframe tbody tr th {\n",
       "        vertical-align: top;\n",
       "    }\n",
       "\n",
       "    .dataframe thead th {\n",
       "        text-align: right;\n",
       "    }\n",
       "</style>\n",
       "<table border=\"1\" class=\"dataframe\">\n",
       "  <thead>\n",
       "    <tr style=\"text-align: right;\">\n",
       "      <th></th>\n",
       "      <th>string</th>\n",
       "      <th>sectionName</th>\n",
       "      <th>label</th>\n",
       "      <th>citingPaperId</th>\n",
       "      <th>citedPaperId</th>\n",
       "      <th>excerpt_index</th>\n",
       "      <th>isKeyCitation</th>\n",
       "      <th>label2</th>\n",
       "      <th>citeEnd</th>\n",
       "      <th>citeStart</th>\n",
       "      <th>source</th>\n",
       "      <th>label_confidence</th>\n",
       "      <th>label2_confidence</th>\n",
       "      <th>id</th>\n",
       "    </tr>\n",
       "  </thead>\n",
       "  <tbody>\n",
       "    <tr>\n",
       "      <th>0</th>\n",
       "      <td>However, how frataxin interacts with the Fe-S ...</td>\n",
       "      <td>Introduction</td>\n",
       "      <td>1</td>\n",
       "      <td>1872080baa7d30ec8fb87be9a65358cd3a7fb649</td>\n",
       "      <td>894be9b4ea46a5c422e81ef3c241072d4c73fdc0</td>\n",
       "      <td>11</td>\n",
       "      <td>True</td>\n",
       "      <td>3</td>\n",
       "      <td>175</td>\n",
       "      <td>168</td>\n",
       "      <td>4</td>\n",
       "      <td>1.0000</td>\n",
       "      <td>0.0</td>\n",
       "      <td>1872080baa7d30ec8fb87be9a65358cd3a7fb649&gt;894be...</td>\n",
       "    </tr>\n",
       "    <tr>\n",
       "      <th>1</th>\n",
       "      <td>In the study by Hickey et al. (2012), spikes w...</td>\n",
       "      <td>Novel Quantitative Trait Loci for Seminal Root...</td>\n",
       "      <td>1</td>\n",
       "      <td>ce1d09a4a3a8d7fd3405b9328f65f00c952cf64b</td>\n",
       "      <td>b6642e19efb8db5623b3cc4eef1c5822a6151107</td>\n",
       "      <td>2</td>\n",
       "      <td>True</td>\n",
       "      <td>3</td>\n",
       "      <td>36</td>\n",
       "      <td>16</td>\n",
       "      <td>4</td>\n",
       "      <td>1.0000</td>\n",
       "      <td>0.0</td>\n",
       "      <td>ce1d09a4a3a8d7fd3405b9328f65f00c952cf64b&gt;b6642...</td>\n",
       "    </tr>\n",
       "    <tr>\n",
       "      <th>2</th>\n",
       "      <td>The drug also reduces catecholamine secretion,...</td>\n",
       "      <td>Introduction</td>\n",
       "      <td>1</td>\n",
       "      <td>9cdf605beb1aa1078f235c4332b3024daa8b31dc</td>\n",
       "      <td>4e6a17fb8d7a3cada601d942e22eb5da6d01adbd</td>\n",
       "      <td>0</td>\n",
       "      <td>False</td>\n",
       "      <td>3</td>\n",
       "      <td>228</td>\n",
       "      <td>225</td>\n",
       "      <td>4</td>\n",
       "      <td>1.0000</td>\n",
       "      <td>0.0</td>\n",
       "      <td>9cdf605beb1aa1078f235c4332b3024daa8b31dc&gt;4e6a1...</td>\n",
       "    </tr>\n",
       "    <tr>\n",
       "      <th>3</th>\n",
       "      <td>By clustering with lowly aggressive close kin ...</td>\n",
       "      <td>Discussion</td>\n",
       "      <td>1</td>\n",
       "      <td>d9f3207db0c79a3b154f3875c9760cc6b056904b</td>\n",
       "      <td>2cc6ff899bf17666ad35893524a4d61624555ed7</td>\n",
       "      <td>3</td>\n",
       "      <td>False</td>\n",
       "      <td>3</td>\n",
       "      <td>110</td>\n",
       "      <td>46</td>\n",
       "      <td>4</td>\n",
       "      <td>1.0000</td>\n",
       "      <td>0.0</td>\n",
       "      <td>d9f3207db0c79a3b154f3875c9760cc6b056904b&gt;2cc6f...</td>\n",
       "    </tr>\n",
       "    <tr>\n",
       "      <th>4</th>\n",
       "      <td>Ophthalmic symptoms are rare manifestations of...</td>\n",
       "      <td>Discussion</td>\n",
       "      <td>1</td>\n",
       "      <td>88b86556857f4374842d2af2e359576806239175</td>\n",
       "      <td>a5bb0ff1a026944d2a47a155462959af2b8505a8</td>\n",
       "      <td>2</td>\n",
       "      <td>False</td>\n",
       "      <td>3</td>\n",
       "      <td>239</td>\n",
       "      <td>234</td>\n",
       "      <td>4</td>\n",
       "      <td>1.0000</td>\n",
       "      <td>0.0</td>\n",
       "      <td>88b86556857f4374842d2af2e359576806239175&gt;a5bb0...</td>\n",
       "    </tr>\n",
       "    <tr>\n",
       "      <th>...</th>\n",
       "      <td>...</td>\n",
       "      <td>...</td>\n",
       "      <td>...</td>\n",
       "      <td>...</td>\n",
       "      <td>...</td>\n",
       "      <td>...</td>\n",
       "      <td>...</td>\n",
       "      <td>...</td>\n",
       "      <td>...</td>\n",
       "      <td>...</td>\n",
       "      <td>...</td>\n",
       "      <td>...</td>\n",
       "      <td>...</td>\n",
       "      <td>...</td>\n",
       "    </tr>\n",
       "    <tr>\n",
       "      <th>8189</th>\n",
       "      <td>Importantly, the results of Pascalis et al. (2...</td>\n",
       "      <td>NaN</td>\n",
       "      <td>1</td>\n",
       "      <td>6f68ccd37718366c40ae6aeedf0b935bf560b215</td>\n",
       "      <td>60ed4bdabf92b2fbd6162dbd8979888cccca55d7</td>\n",
       "      <td>15</td>\n",
       "      <td>True</td>\n",
       "      <td>3</td>\n",
       "      <td>50</td>\n",
       "      <td>28</td>\n",
       "      <td>4</td>\n",
       "      <td>0.7350</td>\n",
       "      <td>0.0</td>\n",
       "      <td>6f68ccd37718366c40ae6aeedf0b935bf560b215&gt;60ed4...</td>\n",
       "    </tr>\n",
       "    <tr>\n",
       "      <th>8190</th>\n",
       "      <td>As suggested by Nguena et al, there is a need ...</td>\n",
       "      <td>DISCUSSION</td>\n",
       "      <td>1</td>\n",
       "      <td>f2a1c1704f9587c94ed95bc98179dc499e933f5e</td>\n",
       "      <td>574e659da7f6c62c07bfaaacd1f31d65bd75524c</td>\n",
       "      <td>1</td>\n",
       "      <td>True</td>\n",
       "      <td>3</td>\n",
       "      <td>182</td>\n",
       "      <td>179</td>\n",
       "      <td>4</td>\n",
       "      <td>0.7508</td>\n",
       "      <td>0.0</td>\n",
       "      <td>f2a1c1704f9587c94ed95bc98179dc499e933f5e&gt;574e6...</td>\n",
       "    </tr>\n",
       "    <tr>\n",
       "      <th>8191</th>\n",
       "      <td>Skeletal muscle is also a primary site of dise...</td>\n",
       "      <td>DISCUSSION</td>\n",
       "      <td>1</td>\n",
       "      <td>18c97ea2ff60c110cc2a523e0fdf729608cbb083</td>\n",
       "      <td>fc13b9c3dfcc121013edaa12fa8ce7842aaed21a</td>\n",
       "      <td>8</td>\n",
       "      <td>False</td>\n",
       "      <td>3</td>\n",
       "      <td>120</td>\n",
       "      <td>108</td>\n",
       "      <td>4</td>\n",
       "      <td>1.0000</td>\n",
       "      <td>0.0</td>\n",
       "      <td>18c97ea2ff60c110cc2a523e0fdf729608cbb083&gt;fc13b...</td>\n",
       "    </tr>\n",
       "    <tr>\n",
       "      <th>8192</th>\n",
       "      <td>ACTIVATION OF TRANSCRIPTION FACTORS Roles for ...</td>\n",
       "      <td>NaN</td>\n",
       "      <td>0</td>\n",
       "      <td>4ec9b89857c0b27e8a4bd3745b7358f387773527</td>\n",
       "      <td>81affdba19e38e2b17cf7b9e93792cc2028cf21d</td>\n",
       "      <td>0</td>\n",
       "      <td>True</td>\n",
       "      <td>3</td>\n",
       "      <td>221</td>\n",
       "      <td>185</td>\n",
       "      <td>4</td>\n",
       "      <td>0.0000</td>\n",
       "      <td>0.0</td>\n",
       "      <td>4ec9b89857c0b27e8a4bd3745b7358f387773527&gt;81aff...</td>\n",
       "    </tr>\n",
       "    <tr>\n",
       "      <th>8193</th>\n",
       "      <td>Most studies focused on the relation between b...</td>\n",
       "      <td>Introduction</td>\n",
       "      <td>1</td>\n",
       "      <td>42c954cad0de68657d4429b512d8fe75dceef13c</td>\n",
       "      <td>00afbfb391f7c15a73a4257b2c0fcd9767ece6a8</td>\n",
       "      <td>0</td>\n",
       "      <td>True</td>\n",
       "      <td>3</td>\n",
       "      <td>102</td>\n",
       "      <td>82</td>\n",
       "      <td>4</td>\n",
       "      <td>1.0000</td>\n",
       "      <td>0.0</td>\n",
       "      <td>42c954cad0de68657d4429b512d8fe75dceef13c&gt;00afb...</td>\n",
       "    </tr>\n",
       "  </tbody>\n",
       "</table>\n",
       "<p>8194 rows × 14 columns</p>\n",
       "</div>"
      ],
      "text/plain": [
       "                                                 string  \\\n",
       "0     However, how frataxin interacts with the Fe-S ...   \n",
       "1     In the study by Hickey et al. (2012), spikes w...   \n",
       "2     The drug also reduces catecholamine secretion,...   \n",
       "3     By clustering with lowly aggressive close kin ...   \n",
       "4     Ophthalmic symptoms are rare manifestations of...   \n",
       "...                                                 ...   \n",
       "8189  Importantly, the results of Pascalis et al. (2...   \n",
       "8190  As suggested by Nguena et al, there is a need ...   \n",
       "8191  Skeletal muscle is also a primary site of dise...   \n",
       "8192  ACTIVATION OF TRANSCRIPTION FACTORS Roles for ...   \n",
       "8193  Most studies focused on the relation between b...   \n",
       "\n",
       "                                            sectionName  label  \\\n",
       "0                                          Introduction      1   \n",
       "1     Novel Quantitative Trait Loci for Seminal Root...      1   \n",
       "2                                          Introduction      1   \n",
       "3                                            Discussion      1   \n",
       "4                                            Discussion      1   \n",
       "...                                                 ...    ...   \n",
       "8189                                                NaN      1   \n",
       "8190                                         DISCUSSION      1   \n",
       "8191                                         DISCUSSION      1   \n",
       "8192                                                NaN      0   \n",
       "8193                                       Introduction      1   \n",
       "\n",
       "                                 citingPaperId  \\\n",
       "0     1872080baa7d30ec8fb87be9a65358cd3a7fb649   \n",
       "1     ce1d09a4a3a8d7fd3405b9328f65f00c952cf64b   \n",
       "2     9cdf605beb1aa1078f235c4332b3024daa8b31dc   \n",
       "3     d9f3207db0c79a3b154f3875c9760cc6b056904b   \n",
       "4     88b86556857f4374842d2af2e359576806239175   \n",
       "...                                        ...   \n",
       "8189  6f68ccd37718366c40ae6aeedf0b935bf560b215   \n",
       "8190  f2a1c1704f9587c94ed95bc98179dc499e933f5e   \n",
       "8191  18c97ea2ff60c110cc2a523e0fdf729608cbb083   \n",
       "8192  4ec9b89857c0b27e8a4bd3745b7358f387773527   \n",
       "8193  42c954cad0de68657d4429b512d8fe75dceef13c   \n",
       "\n",
       "                                  citedPaperId  excerpt_index  isKeyCitation  \\\n",
       "0     894be9b4ea46a5c422e81ef3c241072d4c73fdc0             11           True   \n",
       "1     b6642e19efb8db5623b3cc4eef1c5822a6151107              2           True   \n",
       "2     4e6a17fb8d7a3cada601d942e22eb5da6d01adbd              0          False   \n",
       "3     2cc6ff899bf17666ad35893524a4d61624555ed7              3          False   \n",
       "4     a5bb0ff1a026944d2a47a155462959af2b8505a8              2          False   \n",
       "...                                        ...            ...            ...   \n",
       "8189  60ed4bdabf92b2fbd6162dbd8979888cccca55d7             15           True   \n",
       "8190  574e659da7f6c62c07bfaaacd1f31d65bd75524c              1           True   \n",
       "8191  fc13b9c3dfcc121013edaa12fa8ce7842aaed21a              8          False   \n",
       "8192  81affdba19e38e2b17cf7b9e93792cc2028cf21d              0           True   \n",
       "8193  00afbfb391f7c15a73a4257b2c0fcd9767ece6a8              0           True   \n",
       "\n",
       "      label2  citeEnd  citeStart  source  label_confidence  label2_confidence  \\\n",
       "0          3      175        168       4            1.0000                0.0   \n",
       "1          3       36         16       4            1.0000                0.0   \n",
       "2          3      228        225       4            1.0000                0.0   \n",
       "3          3      110         46       4            1.0000                0.0   \n",
       "4          3      239        234       4            1.0000                0.0   \n",
       "...      ...      ...        ...     ...               ...                ...   \n",
       "8189       3       50         28       4            0.7350                0.0   \n",
       "8190       3      182        179       4            0.7508                0.0   \n",
       "8191       3      120        108       4            1.0000                0.0   \n",
       "8192       3      221        185       4            0.0000                0.0   \n",
       "8193       3      102         82       4            1.0000                0.0   \n",
       "\n",
       "                                                     id  \n",
       "0     1872080baa7d30ec8fb87be9a65358cd3a7fb649>894be...  \n",
       "1     ce1d09a4a3a8d7fd3405b9328f65f00c952cf64b>b6642...  \n",
       "2     9cdf605beb1aa1078f235c4332b3024daa8b31dc>4e6a1...  \n",
       "3     d9f3207db0c79a3b154f3875c9760cc6b056904b>2cc6f...  \n",
       "4     88b86556857f4374842d2af2e359576806239175>a5bb0...  \n",
       "...                                                 ...  \n",
       "8189  6f68ccd37718366c40ae6aeedf0b935bf560b215>60ed4...  \n",
       "8190  f2a1c1704f9587c94ed95bc98179dc499e933f5e>574e6...  \n",
       "8191  18c97ea2ff60c110cc2a523e0fdf729608cbb083>fc13b...  \n",
       "8192  4ec9b89857c0b27e8a4bd3745b7358f387773527>81aff...  \n",
       "8193  42c954cad0de68657d4429b512d8fe75dceef13c>00afb...  \n",
       "\n",
       "[8194 rows x 14 columns]"
      ]
     },
     "execution_count": 6,
     "metadata": {},
     "output_type": "execute_result"
    }
   ],
   "source": [
    "model_df"
   ]
  },
  {
   "cell_type": "markdown",
   "metadata": {},
   "source": [
    "<b><h3>First Pass: Data Import, Cleaning, and Feature Parsing</h3></b>\n",
    "\n",
    "Like all good science experiments, we will start off with a hypothesis. \n",
    "\n",
    "In this case we assume that papers that have the same sectionName and citeEnd (not sure what these columns mean, just fits my purposes thats all) will be the most useful to users. We will take a naive approach of parsing out these fields from a subsample of the overall dataset. After generating simple sparse arrays, we'll run the entire item array through an item-based collaborative filter to see if we get good results.\n",
    "\n",
    "The item-based collaborative filter depends on a similarity score to compare items. In this case the cosine similarity provides a reasonable comparison between two non-zero vectors. Cosine similarity is the cosine of the angle between the vectors; that is, their dot product divided by their lengths. The cosine similarity always belongs to the interval [-1,1]. For example, two collinear vectors have a cosine similarity of 1, two orthogonal vectors have a similarity of 0, and two opposite vectors have a similarity of 01.\n",
    "\n",
    "A closely related concept is the cosine distance, which is a complement of the cosine similarity in the positive space. The relation between cosine similarity and cosine distance is that similarity decreases when distance between two vectors increases and vice versa. The cosine distance is defined as:\n",
    "\n",
    "$D_c(A,B)$  = $1\\;-\\;S_c(A,B)$  where $D_c$ is the cosine distance and $S_c$ is the cosine similarity.\n",
    "\n",
    "where $S_c(A,B)$  =  $cos(\\theta)$ = $\\frac{A·B}{||A||||B||}$  =  $\\frac{\\sum_{i=1}^nA_iB_i}{\\sqrt{\\sum_{i=1}^nA_i^2}\\sqrt{\\sum_{i=1}^nB_i^2}}$\n",
    "\n",
    "This means two collinear vectors have a cosine distance of 1-1=0; two orthogonal vectors have a cosine distance of 1-0=1; and two opposite vectors have a cosine distance of 1--1=2. \n",
    "\n",
    "The scipy.spatial.distance.cosine function gives the cosine distance directly so to retrieve the cosine similarity, we move thigns around in the equation:\n",
    "\n",
    "$S_c(A,B)$  = $1\\;-\\;D_c(A,B)$  where $D_c$ is the cosine distance and $S_c$ is the cosine similarity."
   ]
  },
  {
   "cell_type": "code",
   "execution_count": 7,
   "metadata": {},
   "outputs": [
    {
     "data": {
      "text/plain": [
       "string                 0\n",
       "sectionName          606\n",
       "label                  0\n",
       "citingPaperId          0\n",
       "citedPaperId           0\n",
       "excerpt_index          0\n",
       "isKeyCitation          0\n",
       "label2                 0\n",
       "citeEnd                0\n",
       "citeStart              0\n",
       "source                 0\n",
       "label_confidence       0\n",
       "label2_confidence      0\n",
       "id                     0\n",
       "dtype: int64"
      ]
     },
     "execution_count": 7,
     "metadata": {},
     "output_type": "execute_result"
    }
   ],
   "source": [
    "model_df.isnull().sum()"
   ]
  },
  {
   "cell_type": "code",
   "execution_count": 8,
   "metadata": {},
   "outputs": [
    {
     "data": {
      "text/plain": [
       "Index(['string', 'sectionName', 'label', 'citingPaperId', 'citedPaperId',\n",
       "       'excerpt_index', 'isKeyCitation', 'label2', 'citeEnd', 'citeStart',\n",
       "       'source', 'label_confidence', 'label2_confidence', 'id'],\n",
       "      dtype='object')"
      ]
     },
     "execution_count": 8,
     "metadata": {},
     "output_type": "execute_result"
    }
   ],
   "source": [
    "model_df.columns"
   ]
  },
  {
   "cell_type": "code",
   "execution_count": 9,
   "metadata": {},
   "outputs": [
    {
     "data": {
      "text/plain": [
       "4691"
      ]
     },
     "execution_count": 9,
     "metadata": {},
     "output_type": "execute_result"
    }
   ],
   "source": [
    "len(model_df.id.unique())"
   ]
  },
  {
   "cell_type": "code",
   "execution_count": 10,
   "metadata": {},
   "outputs": [
    {
     "data": {
      "text/plain": [
       "1147"
      ]
     },
     "execution_count": 10,
     "metadata": {},
     "output_type": "execute_result"
    }
   ],
   "source": [
    "len(model_df.sectionName.unique())"
   ]
  },
  {
   "cell_type": "code",
   "execution_count": 11,
   "metadata": {},
   "outputs": [
    {
     "data": {
      "text/plain": [
       "(8194, 14)"
      ]
     },
     "execution_count": 11,
     "metadata": {},
     "output_type": "execute_result"
    }
   ],
   "source": [
    "model_df.shape"
   ]
  },
  {
   "cell_type": "code",
   "execution_count": 12,
   "metadata": {},
   "outputs": [],
   "source": [
    "from scipy.spatial.distance import cosine"
   ]
  },
  {
   "cell_type": "code",
   "execution_count": 13,
   "metadata": {},
   "outputs": [],
   "source": [
    "def item_collab_filter(features_df):\n",
    "    item_similarities = pd.DataFrame(index=features_df.columns, columns=features_df.columns)\n",
    "\n",
    "    for i in features_df.columns:\n",
    "        for j in features_df.columns:\n",
    "            item_similarities.loc[i][j] =  1 - cosine(features_df[i], features_df[j]) # similarity from distance\n",
    "    return item_similarities"
   ]
  },
  {
   "cell_type": "code",
   "execution_count": 14,
   "metadata": {},
   "outputs": [],
   "source": [
    "one_hot_sectionName = pd.get_dummies(model_df.sectionName, prefix=['sectionName'])"
   ]
  },
  {
   "cell_type": "code",
   "execution_count": 15,
   "metadata": {},
   "outputs": [],
   "source": [
    "one_hot_citeEnd = pd.get_dummies(model_df.citeEnd, prefix=['citeEnd'])"
   ]
  },
  {
   "cell_type": "code",
   "execution_count": 16,
   "metadata": {},
   "outputs": [],
   "source": [
    "one_hot_sectionName_citeEnd = one_hot_sectionName.join(one_hot_citeEnd)"
   ]
  },
  {
   "cell_type": "code",
   "execution_count": 17,
   "metadata": {},
   "outputs": [
    {
     "data": {
      "text/plain": [
       "(8194, 1628)"
      ]
     },
     "execution_count": 17,
     "metadata": {},
     "output_type": "execute_result"
    }
   ],
   "source": [
    "one_hot_sectionName_citeEnd.shape"
   ]
  },
  {
   "cell_type": "code",
   "execution_count": 18,
   "metadata": {},
   "outputs": [
    {
     "name": "stdout",
     "output_type": "stream",
     "text": [
      "Size of first feature array:  13339976\n"
     ]
    }
   ],
   "source": [
    "from sys import getsizeof\n",
    "\n",
    "print('Size of first feature array: ', getsizeof(one_hot_sectionName_citeEnd))"
   ]
  },
  {
   "cell_type": "code",
   "execution_count": 19,
   "metadata": {},
   "outputs": [],
   "source": [
    "one_hot_sectionName_citeEnd = one_hot_sectionName_citeEnd.T"
   ]
  },
  {
   "cell_type": "code",
   "execution_count": 20,
   "metadata": {},
   "outputs": [],
   "source": [
    "first_items = item_collab_filter(one_hot_sectionName_citeEnd.loc[:,0:1000]) # first 1000"
   ]
  },
  {
   "cell_type": "code",
   "execution_count": 21,
   "metadata": {},
   "outputs": [
    {
     "data": {
      "text/plain": [
       "RangeIndex(start=0, stop=8194, step=1)"
      ]
     },
     "execution_count": 21,
     "metadata": {},
     "output_type": "execute_result"
    }
   ],
   "source": [
    "model_df.index"
   ]
  },
  {
   "cell_type": "code",
   "execution_count": 22,
   "metadata": {},
   "outputs": [
    {
     "data": {
      "text/plain": [
       "RangeIndex(start=0, stop=8194, step=1)"
      ]
     },
     "execution_count": 22,
     "metadata": {},
     "output_type": "execute_result"
    }
   ],
   "source": [
    "one_hot_sectionName_citeEnd.columns"
   ]
  },
  {
   "cell_type": "code",
   "execution_count": 23,
   "metadata": {},
   "outputs": [
    {
     "data": {
      "text/plain": [
       "RangeIndex(start=0, stop=1001, step=1)"
      ]
     },
     "execution_count": 23,
     "metadata": {},
     "output_type": "execute_result"
    }
   ],
   "source": [
    "first_items.index"
   ]
  },
  {
   "cell_type": "code",
   "execution_count": 24,
   "metadata": {},
   "outputs": [
    {
     "data": {
      "image/png": "[encoded data removed]",
      "text/plain": [
       "<Figure size 640x480 with 2 Axes>"
      ]
     },
     "metadata": {},
     "output_type": "display_data"
    }
   ],
   "source": [
    "import matplotlib.pyplot as plt\n",
    "import seaborn as sns\n",
    "import numpy as np\n",
    "\n",
    "%matplotlib inline\n",
    "sns.set()\n",
    "\n",
    "ax = sns.heatmap(first_items.fillna(0), vmin=0, vmax=1,cmap='YlGnBu', xticklabels=250, yticklabels=250)\n",
    "ax.tick_params(labelsize=12)"
   ]
  },
  {
   "cell_type": "markdown",
   "metadata": {},
   "source": [
    "We select the two features, convert them to one-hot encoding, join them and transpose them. This way the feature names are the indexex and the record row numbers are the column names. As such in item_collab_filter(), we first create a cosine similarity DataFrame with record row numbers as both the columns and indexes. The we loop through the vectors (columns after the transpose), and for every pair of vectors (using a nested for loop), we calculate the cosine distance using scipy.spatial.distance.consine, and subtract the distance from 1 to retrieve the cosine similarity before we insert in the square DataFrame. \n",
    "\n",
    "We use the cosine similarity DataFrame to create a heatmap. The diagonal line shows that the cosine similarity is correctly indicating that each paper is most similar to itself. The broken diagonal may be attributed to the NaN values in one of the columns (so we call .fillna(0)). Its not clear to me where the heatmap finds the NaN values that trip it up, because I see the same thing when I remove all NaN values from the original dataframe.\n",
    "\n",
    "Then in the paper_recommender function, we take a record index  and the cosine distance DataFrame. We retrieve the row label (we could easily go with the column label) with that index, sort the values in descending order and store a reference to the first four rows of that Series. Then we use that row index to access the original record and those that are similar to it, and print them alongside the similarity scores.\n",
    "\n"
   ]
  },
  {
   "cell_type": "code",
   "execution_count": 25,
   "metadata": {},
   "outputs": [],
   "source": [
    "def paper_recommender(paper_ix, items_df):\n",
    "    print('Based on the paper: \\nindex= ', paper_ix)\n",
    "    print(model_df.iloc[paper_ix])\n",
    "    top_results = items_df.loc[paper_ix].sort_values(ascending=False).head(4) # sort and select top 4\n",
    "    print('\\nTop three results: ')\n",
    "    order = 1\n",
    "    for i in top_results.index.tolist():\n",
    "        print(order, '. Paper index= ', i)\n",
    "        print('Similarity score: ', top_results[i])\n",
    "        print(model_df.iloc[i], '\\n')\n",
    "        if order < 5: order += 1\n",
    "    print(top_results)"
   ]
  },
  {
   "cell_type": "code",
   "execution_count": 26,
   "metadata": {},
   "outputs": [
    {
     "name": "stdout",
     "output_type": "stream",
     "text": [
      "Based on the paper: \n",
      "index=  100\n",
      "string               This finding is different from that in our pre...\n",
      "sectionName                                                 Discussion\n",
      "label                                                                2\n",
      "citingPaperId                 96d59f09d602d930beddbc2785972d443efa4d93\n",
      "citedPaperId                  723a4b4f3019cd5a5f8546925d8cf4478a0d03b7\n",
      "excerpt_index                                                        4\n",
      "isKeyCitation                                                    False\n",
      "label2                                                               1\n",
      "citeEnd                                                            219\n",
      "citeStart                                                          203\n",
      "source                                                               4\n",
      "label_confidence                                                   1.0\n",
      "label2_confidence                                               0.6837\n",
      "id                   96d59f09d602d930beddbc2785972d443efa4d93>723a4...\n",
      "Name: 100, dtype: object\n",
      "\n",
      "Top three results: \n",
      "1 . Paper index=  100\n",
      "Similarity score:  1\n",
      "string               This finding is different from that in our pre...\n",
      "sectionName                                                 Discussion\n",
      "label                                                                2\n",
      "citingPaperId                 96d59f09d602d930beddbc2785972d443efa4d93\n",
      "citedPaperId                  723a4b4f3019cd5a5f8546925d8cf4478a0d03b7\n",
      "excerpt_index                                                        4\n",
      "isKeyCitation                                                    False\n",
      "label2                                                               1\n",
      "citeEnd                                                            219\n",
      "citeStart                                                          203\n",
      "source                                                               4\n",
      "label_confidence                                                   1.0\n",
      "label2_confidence                                               0.6837\n",
      "id                   96d59f09d602d930beddbc2785972d443efa4d93>723a4...\n",
      "Name: 100, dtype: object \n",
      "\n",
      "2 . Paper index=  1000\n",
      "Similarity score:  0.5\n",
      "string               These results are inconsistent with those of p...\n",
      "sectionName                                                 Discussion\n",
      "label                                                                2\n",
      "citingPaperId                 7d3ea24ab5aefb9de004a5cf741d2f79aa02f244\n",
      "citedPaperId                  140a18eb723ca36d6170f35a177b4b1d40bb673f\n",
      "excerpt_index                                                        0\n",
      "isKeyCitation                                                    False\n",
      "label2                                                               0\n",
      "citeEnd                                                            145\n",
      "citeStart                                                          141\n",
      "source                                                               4\n",
      "label_confidence                                                   0.0\n",
      "label2_confidence                                                  0.0\n",
      "id                   7d3ea24ab5aefb9de004a5cf741d2f79aa02f244>140a1...\n",
      "Name: 1000, dtype: object \n",
      "\n",
      "3 . Paper index=  366\n",
      "Similarity score:  0.5\n",
      "string               …ago from the mouse cerebellum (Furuichi et al...\n",
      "sectionName                                                 Discussion\n",
      "label                                                                1\n",
      "citingPaperId                 76bfc9cfbb407b0becb778ddd462a3d5db552664\n",
      "citedPaperId                  855bda9eabd7af1f0ca0784e0566ab4435e837e7\n",
      "excerpt_index                                                        0\n",
      "isKeyCitation                                                    False\n",
      "label2                                                               3\n",
      "citeEnd                                                            255\n",
      "citeStart                                                          242\n",
      "source                                                               4\n",
      "label_confidence                                                0.7778\n",
      "label2_confidence                                                  0.0\n",
      "id                   76bfc9cfbb407b0becb778ddd462a3d5db552664>855bd...\n",
      "Name: 366, dtype: object \n",
      "\n",
      "4 . Paper index=  457\n",
      "Similarity score:  0.5\n",
      "string               …from both monocots and eudicots pointing to t...\n",
      "sectionName                                                 Discussion\n",
      "label                                                                1\n",
      "citingPaperId                 bd51b37b0a1c520f0463535e63232e9336cf0a90\n",
      "citedPaperId                  da0746558cecaad6681c199c44b8ed7d128848e5\n",
      "excerpt_index                                                        5\n",
      "isKeyCitation                                                     True\n",
      "label2                                                               3\n",
      "citeEnd                                                            260\n",
      "citeStart                                                          242\n",
      "source                                                               4\n",
      "label_confidence                                                   1.0\n",
      "label2_confidence                                                  0.0\n",
      "id                   bd51b37b0a1c520f0463535e63232e9336cf0a90>da074...\n",
      "Name: 457, dtype: object \n",
      "\n",
      "100       1\n",
      "1000    0.5\n",
      "366     0.5\n",
      "457     0.5\n",
      "Name: 100, dtype: object\n"
     ]
    }
   ],
   "source": [
    "paper_recommender(100, first_items)"
   ]
  },
  {
   "cell_type": "markdown",
   "metadata": {},
   "source": [
    "<b><h3>Second Pass: More Engineering and a Smarter Model</h3></b>\n",
    "\n",
    "The initial approach of creating a large, sparse array and shoving it through a filter can be improved in many ways. The next steps will focus specifically on applying better techniques to the two initial features and altering the item-based collaborative filter method for faster iteration.\n",
    "\n",
    "First, it is time to try out some of those great feature engineering tricks for the two variables in our hypothesis. Looking deeper into the features already developed, we can choose techniques that will address each type of variable and convert it to a better feature for our recommendation system."
   ]
  },
  {
   "cell_type": "markdown",
   "metadata": {},
   "source": [
    "<b><h4>Academic Paper Recommender: Take 2</h4></b>\n",
    "\n",
    "Let's focus on the citeEnd feature first. Using raw counts can be problematic using similarity metrics (assuming the column encodes raw counts of some sort). We can use a quantization or binning technique. The bins will be based on ranges within the variable, rather than unique number of features. To further reduce the feature space, we will dummy-code the resultant bins. Pandas can do both using built-in functions. These methods can make the results easy to interpret, so we can do a quick check of the transformed features before moving on. "
   ]
  },
  {
   "cell_type": "code",
   "execution_count": 27,
   "metadata": {},
   "outputs": [
    {
     "name": "stdout",
     "output_type": "stream",
     "text": [
      "citeEnd spread: -1   -   3305\n"
     ]
    }
   ],
   "source": [
    "print(\"citeEnd spread:\", model_df.citeEnd.min(),  \"  -  \", model_df.citeEnd.max())"
   ]
  },
  {
   "cell_type": "code",
   "execution_count": 28,
   "metadata": {},
   "outputs": [],
   "source": [
    "model_df.citeEnd  = model_df.citeEnd + 1  # get rid of the negative -1 minimum"
   ]
  },
  {
   "cell_type": "code",
   "execution_count": 29,
   "metadata": {},
   "outputs": [
    {
     "name": "stdout",
     "output_type": "stream",
     "text": [
      "citeEnd spread: min: 0 max:  3306\n"
     ]
    }
   ],
   "source": [
    "print(\"citeEnd spread:\", \"min:\",model_df.citeEnd.min(),  \"max: \", model_df.citeEnd.max())"
   ]
  },
  {
   "cell_type": "code",
   "execution_count": 30,
   "metadata": {},
   "outputs": [
    {
     "name": "stdout",
     "output_type": "stream",
     "text": [
      "Quantile spread:\n",
      " 0.25    104.0\n",
      "0.50    153.0\n",
      "0.75    209.0\n",
      "Name: citeEnd, dtype: float64\n"
     ]
    }
   ],
   "source": [
    "print(\"Quantile spread:\\n\", model_df.citeEnd.quantile([0.25,0.5,0.75]))"
   ]
  },
  {
   "cell_type": "code",
   "execution_count": 31,
   "metadata": {},
   "outputs": [
    {
     "data": {
      "text/plain": [
       "<Axes: xlabel='citeEnd', ylabel='Count'>"
      ]
     },
     "execution_count": 31,
     "metadata": {},
     "output_type": "execute_result"
    },
    {
     "data": {
      "image/png": "[encoded data removed]",
      "text/plain": [
       "<Figure size 640x480 with 1 Axes>"
      ]
     },
     "metadata": {},
     "output_type": "display_data"
    }
   ],
   "source": [
    "# plot citeEnd to see the distribution with 100\n",
    "sns.histplot(data=model_df, x='citeEnd', bins= model_df.citeEnd.max() - model_df.citeEnd.min())"
   ]
  },
  {
   "cell_type": "code",
   "execution_count": 32,
   "metadata": {},
   "outputs": [],
   "source": [
    "bins = int(round((model_df.citeEnd.max() - model_df.citeEnd.min())/100))"
   ]
  },
  {
   "cell_type": "code",
   "execution_count": 33,
   "metadata": {},
   "outputs": [],
   "source": [
    "temp_df = pd.DataFrame(index=model_df.index)"
   ]
  },
  {
   "cell_type": "code",
   "execution_count": 34,
   "metadata": {},
   "outputs": [
    {
     "data": {
      "text/html": [
       "<div>\n",
       "<style scoped>\n",
       "    .dataframe tbody tr th:only-of-type {\n",
       "        vertical-align: middle;\n",
       "    }\n",
       "\n",
       "    .dataframe tbody tr th {\n",
       "        vertical-align: top;\n",
       "    }\n",
       "\n",
       "    .dataframe thead th {\n",
       "        text-align: right;\n",
       "    }\n",
       "</style>\n",
       "<table border=\"1\" class=\"dataframe\">\n",
       "  <thead>\n",
       "    <tr style=\"text-align: right;\">\n",
       "      <th></th>\n",
       "    </tr>\n",
       "  </thead>\n",
       "  <tbody>\n",
       "    <tr>\n",
       "      <th>0</th>\n",
       "    </tr>\n",
       "    <tr>\n",
       "      <th>1</th>\n",
       "    </tr>\n",
       "    <tr>\n",
       "      <th>2</th>\n",
       "    </tr>\n",
       "    <tr>\n",
       "      <th>3</th>\n",
       "    </tr>\n",
       "    <tr>\n",
       "      <th>4</th>\n",
       "    </tr>\n",
       "    <tr>\n",
       "      <th>...</th>\n",
       "    </tr>\n",
       "    <tr>\n",
       "      <th>8189</th>\n",
       "    </tr>\n",
       "    <tr>\n",
       "      <th>8190</th>\n",
       "    </tr>\n",
       "    <tr>\n",
       "      <th>8191</th>\n",
       "    </tr>\n",
       "    <tr>\n",
       "      <th>8192</th>\n",
       "    </tr>\n",
       "    <tr>\n",
       "      <th>8193</th>\n",
       "    </tr>\n",
       "  </tbody>\n",
       "</table>\n",
       "<p>8194 rows × 0 columns</p>\n",
       "</div>"
      ],
      "text/plain": [
       "Empty DataFrame\n",
       "Columns: []\n",
       "Index: [0, 1, 2, 3, 4, 5, 6, 7, 8, 9, 10, 11, 12, 13, 14, 15, 16, 17, 18, 19, 20, 21, 22, 23, 24, 25, 26, 27, 28, 29, 30, 31, 32, 33, 34, 35, 36, 37, 38, 39, 40, 41, 42, 43, 44, 45, 46, 47, 48, 49, 50, 51, 52, 53, 54, 55, 56, 57, 58, 59, 60, 61, 62, 63, 64, 65, 66, 67, 68, 69, 70, 71, 72, 73, 74, 75, 76, 77, 78, 79, 80, 81, 82, 83, 84, 85, 86, 87, 88, 89, 90, 91, 92, 93, 94, 95, 96, 97, 98, 99, ...]\n",
       "\n",
       "[8194 rows x 0 columns]"
      ]
     },
     "execution_count": 34,
     "metadata": {},
     "output_type": "execute_result"
    }
   ],
   "source": [
    "temp_df"
   ]
  },
  {
   "cell_type": "code",
   "execution_count": 35,
   "metadata": {},
   "outputs": [],
   "source": [
    "temp_df['citeEndBinned'] = pd.cut(model_df['citeEnd'].tolist(), bins, precision=0) "
   ]
  },
  {
   "cell_type": "code",
   "execution_count": 36,
   "metadata": {},
   "outputs": [
    {
     "data": {
      "text/html": [
       "<div>\n",
       "<style scoped>\n",
       "    .dataframe tbody tr th:only-of-type {\n",
       "        vertical-align: middle;\n",
       "    }\n",
       "\n",
       "    .dataframe tbody tr th {\n",
       "        vertical-align: top;\n",
       "    }\n",
       "\n",
       "    .dataframe thead th {\n",
       "        text-align: right;\n",
       "    }\n",
       "</style>\n",
       "<table border=\"1\" class=\"dataframe\">\n",
       "  <thead>\n",
       "    <tr style=\"text-align: right;\">\n",
       "      <th></th>\n",
       "      <th>citeEndBinned</th>\n",
       "    </tr>\n",
       "  </thead>\n",
       "  <tbody>\n",
       "    <tr>\n",
       "      <th>0</th>\n",
       "      <td>(100.0, 200.0]</td>\n",
       "    </tr>\n",
       "    <tr>\n",
       "      <th>1</th>\n",
       "      <td>(-3.0, 100.0]</td>\n",
       "    </tr>\n",
       "    <tr>\n",
       "      <th>2</th>\n",
       "      <td>(200.0, 301.0]</td>\n",
       "    </tr>\n",
       "    <tr>\n",
       "      <th>3</th>\n",
       "      <td>(100.0, 200.0]</td>\n",
       "    </tr>\n",
       "    <tr>\n",
       "      <th>4</th>\n",
       "      <td>(200.0, 301.0]</td>\n",
       "    </tr>\n",
       "    <tr>\n",
       "      <th>...</th>\n",
       "      <td>...</td>\n",
       "    </tr>\n",
       "    <tr>\n",
       "      <th>8189</th>\n",
       "      <td>(-3.0, 100.0]</td>\n",
       "    </tr>\n",
       "    <tr>\n",
       "      <th>8190</th>\n",
       "      <td>(100.0, 200.0]</td>\n",
       "    </tr>\n",
       "    <tr>\n",
       "      <th>8191</th>\n",
       "      <td>(100.0, 200.0]</td>\n",
       "    </tr>\n",
       "    <tr>\n",
       "      <th>8192</th>\n",
       "      <td>(200.0, 301.0]</td>\n",
       "    </tr>\n",
       "    <tr>\n",
       "      <th>8193</th>\n",
       "      <td>(100.0, 200.0]</td>\n",
       "    </tr>\n",
       "  </tbody>\n",
       "</table>\n",
       "<p>8194 rows × 1 columns</p>\n",
       "</div>"
      ],
      "text/plain": [
       "       citeEndBinned\n",
       "0     (100.0, 200.0]\n",
       "1      (-3.0, 100.0]\n",
       "2     (200.0, 301.0]\n",
       "3     (100.0, 200.0]\n",
       "4     (200.0, 301.0]\n",
       "...              ...\n",
       "8189   (-3.0, 100.0]\n",
       "8190  (100.0, 200.0]\n",
       "8191  (100.0, 200.0]\n",
       "8192  (200.0, 301.0]\n",
       "8193  (100.0, 200.0]\n",
       "\n",
       "[8194 rows x 1 columns]"
      ]
     },
     "execution_count": 36,
     "metadata": {},
     "output_type": "execute_result"
    }
   ],
   "source": [
    "temp_df"
   ]
  },
  {
   "cell_type": "code",
   "execution_count": 37,
   "metadata": {},
   "outputs": [],
   "source": [
    "X_citeEnd = pd.get_dummies(temp_df['citeEndBinned'])"
   ]
  },
  {
   "cell_type": "code",
   "execution_count": 38,
   "metadata": {},
   "outputs": [
    {
     "data": {
      "text/plain": [
       "array([ 0,  1,  2,  3,  4,  5,  6,  7,  8,  9, 10, 11, 12, 13, 14, 15, 16,\n",
       "       17, 18, 19, 20, 21, 22, 23, 24, 25, 26, 27, 28, 29, 30, 31, 32],\n",
       "      dtype=int8)"
      ]
     },
     "execution_count": 38,
     "metadata": {},
     "output_type": "execute_result"
    }
   ],
   "source": [
    "X_citeEnd.columns.codes #pd.cut yields Categorical obj"
   ]
  },
  {
   "cell_type": "code",
   "execution_count": 39,
   "metadata": {},
   "outputs": [
    {
     "data": {
      "text/plain": [
       "IntervalIndex([(-3.0, 100.0], (100.0, 200.0], (200.0, 301.0], (301.0, 401.0], (401.0, 501.0] ... (2805.0, 2905.0], (2905.0, 3005.0], (3005.0, 3106.0], (3106.0, 3206.0], (3206.0, 3306.0]], dtype='interval[float64, right]')"
      ]
     },
     "execution_count": 39,
     "metadata": {},
     "output_type": "execute_result"
    }
   ],
   "source": [
    "X_citeEnd.columns.categories #pd.cut yields Categorical obj"
   ]
  },
  {
   "cell_type": "code",
   "execution_count": 40,
   "metadata": {},
   "outputs": [
    {
     "data": {
      "text/plain": [
       "Text(0, 0.5, 'Counts')"
      ]
     },
     "execution_count": 40,
     "metadata": {},
     "output_type": "execute_result"
    },
    {
     "data": {
      "image/png": "[encoded data removed]",
      "text/plain": [
       "<Figure size 640x480 with 1 Axes>"
      ]
     },
     "metadata": {},
     "output_type": "display_data"
    }
   ],
   "source": [
    "# plot the new distribution\n",
    "fig, ax = plt.subplots()\n",
    "X_citeEnd.sum().plot.bar(ax=ax)\n",
    "ax.tick_params(labelsize=8)\n",
    "ax.set_xlabel('Binned citeEnd', fontsize=12)\n",
    "ax.set_ylabel('Counts', fontsize=12)"
   ]
  },
  {
   "cell_type": "markdown",
   "metadata": {},
   "source": [
    "We have preserved the underlying distribution of the original variable through binning. If we desired a method that would benefit from a different distribution, we could alter our binning choices to change how this variable presents itself to the model. Since we are using cosine similarity, this is fine.\n",
    "\n",
    "The sectionName feature space contributed significantly to the original model's size and processing time. We created a bag-of-phrases and since we already have a useful sparse array, we can focus on using a more efficient data type. We will convert from a Pandas DataFrame to a NumPy sparse array to improve computation time.\n",
    "\n",
    "We will pipe our features together, and rerun our recommender to see if we have improved results, taking advantage of scikit-learn's cosine similarity function. We will also reduce the computational time by only focusing on one item at a time."
   ]
  },
  {
   "cell_type": "code",
   "execution_count": 41,
   "metadata": {},
   "outputs": [],
   "source": [
    "one_hot_sectionName_np = one_hot_sectionName.values"
   ]
  },
  {
   "cell_type": "code",
   "execution_count": 42,
   "metadata": {},
   "outputs": [
    {
     "name": "stdout",
     "output_type": "stream",
     "text": [
      "Our pandas Series, in bytes:  9390468\n",
      "Our hashed numpy array, in bytes:  120\n"
     ]
    }
   ],
   "source": [
    "# We can see how this will make a difference in the future by looking at the size of each\n",
    "print('Our pandas Series, in bytes: ', getsizeof(one_hot_sectionName))\n",
    "print('Our hashed numpy array, in bytes: ', getsizeof(one_hot_sectionName_np))"
   ]
  },
  {
   "cell_type": "code",
   "execution_count": 43,
   "metadata": {},
   "outputs": [],
   "source": [
    "second_features = np.append(one_hot_sectionName, X_citeEnd, axis=1)"
   ]
  },
  {
   "cell_type": "code",
   "execution_count": 44,
   "metadata": {},
   "outputs": [
    {
     "name": "stdout",
     "output_type": "stream",
     "text": [
      "The power of feature engineering saves us, in bytes:  3901544\n"
     ]
    }
   ],
   "source": [
    "print(\"The power of feature engineering saves us, in bytes: \", getsizeof(one_hot_sectionName_citeEnd) -\n",
    " getsizeof(second_features), )"
   ]
  },
  {
   "cell_type": "code",
   "execution_count": 45,
   "metadata": {},
   "outputs": [],
   "source": [
    "from sklearn.metrics.pairwise import cosine_similarity\n",
    "\n",
    "def piped_collab_filter(features_matrix, index, top_n):\n",
    "    item_similarities = 1 - cosine_similarity(features_matrix[index:index+1,:], features_matrix).flatten()\n",
    "    related_indices = [i for i in item_similarities.argsort()[::-1] if i != index]\n",
    "    return [(index, item_similarities[index]) for index in related_indices][0:top_n]"
   ]
  },
  {
   "cell_type": "markdown",
   "metadata": {},
   "source": [
    "We use the scikit-learn cosine_similarity function which takes two matrices, and computes the cosine similarity between pairs of rows from the matrices. In the function above, we pass it a matrix, a row index, so that it slices out the specified row, and computes its cosine similarity with every other matrix. Our matrix is an ndarray and so after we receive an ndarray output, we call flatten() to collapse the output into one dimension. Then we use the .argsort()\n",
    "to return a list of the indices arranged in ascending order of the values they hold and then reverse them . We return the index and the cosine similarity values of the top n similar papers.\n",
    "\n",
    "When we go to recommend a paper we take the row label and how many top similar results to return. We first check if the provided row label is actually in the DataFrame's index object. If it is , we print details before we use the index object's .get_loc() function to get the integer index for said label. It is this row index that we use to call the cosine similarity wrapper function which will return tuples of the integer index and similarity scores of the top n similar papers. With this information, we print the similar results in order."
   ]
  },
  {
   "cell_type": "code",
   "execution_count": 46,
   "metadata": {},
   "outputs": [],
   "source": [
    "def paper_recommender(items_df, paper_ix, top_n):\n",
    "    if paper_ix in model_df.index:\n",
    "        print('Based on the paper: ')\n",
    "        print('Paper index = ', model_df.loc[paper_ix].name)\n",
    "        print('Section Name : ', model_df.loc[paper_ix]['sectionName'])\n",
    "        print('Cite End: ', model_df.loc[paper_ix]['citeEnd'])\n",
    "        print('Abstact: ', model_df.loc[paper_ix]['string'])\n",
    "        print('Paper ID: ', model_df.loc[paper_ix]['id'])\n",
    "\n",
    "        # define the location index for the DataFrame index requested\n",
    "        array_ix = model_df.index.get_loc(paper_ix)\n",
    "        top_results = piped_collab_filter(items_df, array_ix, top_n)\n",
    "        print('\\nTop', top_n, 'results:')\n",
    "\n",
    "        order = 1\n",
    "        for i in range(len(top_results)):\n",
    "            print(order, '. Paper index = ', model_df.iloc[top_results[i][0]].name)\n",
    "            print('Similarity score: ', top_results[i][1])\n",
    "            print('SectionName :', model_df.iloc[top_results[i][0]]['string'])\n",
    "            print('Cite End: ', model_df.iloc[top_results[i][0]]['citeEnd'])\n",
    "            print('Abstact: ', model_df.iloc[top_results[i][0]]['string'])\n",
    "            print('Paper ID: ', model_df.iloc[top_results[i][0]]['id'],'\\n')\n",
    "            if order < top_n : order += 1\n",
    "        \n",
    "    else:\n",
    "        print('Whoops! Choose another papeer. Try something from  here: \\n', model_df.index[100:200])"
   ]
  },
  {
   "cell_type": "code",
   "execution_count": 47,
   "metadata": {},
   "outputs": [
    {
     "name": "stdout",
     "output_type": "stream",
     "text": [
      "Based on the paper: \n",
      "Paper index =  2\n",
      "Section Name :  Introduction\n",
      "Cite End:  229\n",
      "Abstact:  The drug also reduces catecholamine secretion, thereby reducing stress and leading to a modest (10-20%) reduction in heart rate and blood pressure, which may be particularly beneficial in patients with cardiovascular disease.(7) Unlike midazolam, dexmedetomidine does not affect the ventilatory response to carbon dioxide.\n",
      "Paper ID:  9cdf605beb1aa1078f235c4332b3024daa8b31dc>4e6a17fb8d7a3cada601d942e22eb5da6d01adbd\n",
      "\n",
      "Top 10 results:\n",
      "1 . Paper index =  5074\n",
      "Similarity score:  1.0\n",
      "SectionName : The present study findings concur with previous reports in that when bone defects occur they are commonly on the tibial side (3,11,22,24).\n",
      "Cite End:  138\n",
      "Abstact:  The present study findings concur with previous reports in that when bone defects occur they are commonly on the tibial side (3,11,22,24).\n",
      "Paper ID:  9e92fc73392d4aea262aa6bae77ab379c79b37b7>2521ee9b9ba1bf7dfd4341259b97f383827fecc9 \n",
      "\n",
      "2 . Paper index =  1297\n",
      "Similarity score:  1.0\n",
      "SectionName : Architectural aspects of FIMs are formalised using Architectural Design Rewriting (ADR) that is a graphical formalism introduced in [4, 5] to formally specify architectural aspects of systems.\n",
      "Cite End:  139\n",
      "Abstact:  Architectural aspects of FIMs are formalised using Architectural Design Rewriting (ADR) that is a graphical formalism introduced in [4, 5] to formally specify architectural aspects of systems.\n",
      "Paper ID:  8befc89171fb546031fea2f0d7482f37b9a9ea29>815ece83872f2550d43f193d44ccfd6c4fb888d2 \n",
      "\n",
      "3 . Paper index =  4102\n",
      "Similarity score:  1.0\n",
      "SectionName : Each node joins a cluster and the cluster elects a leader in a multihop, distributed manner [15].\n",
      "Cite End:  97\n",
      "Abstact:  Each node joins a cluster and the cluster elects a leader in a multihop, distributed manner [15].\n",
      "Paper ID:  816c1eb46e950c8b7f084665d708af21f703e9f2>48adc076d7c2c5a74323f8dd61ffa32be706d982 \n",
      "\n",
      "4 . Paper index =  1301\n",
      "Similarity score:  1.0\n",
      "SectionName : In Arabidopsis, testa color is associated with seed dormancy, longevity, and germination (Debeaujon et al. 2000).\n",
      "Cite End:  112\n",
      "Abstact:  In Arabidopsis, testa color is associated with seed dormancy, longevity, and germination (Debeaujon et al. 2000).\n",
      "Paper ID:  7d78f9234f92205f013602aa92b2491f88014e84>9291460032a5da11577c7c33e3ac3a32403f524d \n",
      "\n",
      "5 . Paper index =  4104\n",
      "Similarity score:  1.0\n",
      "SectionName : Overall Leptospira infection prevalence reported in black rats tested by PCR ranged from 11 0% to 65 8% (n = 6; number of animals: median = 79, range = 33–141) [85, 86, 92, 103, 118, 124].\n",
      "Cite End:  188\n",
      "Abstact:  Overall Leptospira infection prevalence reported in black rats tested by PCR ranged from 11 0% to 65 8% (n = 6; number of animals: median = 79, range = 33–141) [85, 86, 92, 103, 118, 124].\n",
      "Paper ID:  e10519e195451e84f58f81847b94c92f28b3450a>61440752d493b8fe39c0b2d6022dfbd31bd42c8f \n",
      "\n",
      "6 . Paper index =  4105\n",
      "Similarity score:  1.0\n",
      "SectionName : In using the report to categorize a participant’s attentional state in the 10–15 s immediately prior to the report, this methodology has been used to demonstrate reliable and replicable differences in neurocognitive functioning between on-task and mind wandering states (e.g., Christoff et al. 2009; Franklin et al. 2011; Kam et al. 2011, 2012, 2013; Kirschner et al. 2012; Mason et al. 2007; McKiernan et al. 2006; Smallwood et al. 2008a, b; Stawarczyk et al. 2011).\n",
      "Cite End:  467\n",
      "Abstact:  In using the report to categorize a participant’s attentional state in the 10–15 s immediately prior to the report, this methodology has been used to demonstrate reliable and replicable differences in neurocognitive functioning between on-task and mind wandering states (e.g., Christoff et al. 2009; Franklin et al. 2011; Kam et al. 2011, 2012, 2013; Kirschner et al. 2012; Mason et al. 2007; McKiernan et al. 2006; Smallwood et al. 2008a, b; Stawarczyk et al. 2011).\n",
      "Paper ID:  3395ec800f81af7f7fe77c228c92efcc63d255a7>bc4aa427890c2f4ce4b7acf3f955aa7f137e3e3f \n",
      "\n",
      "7 . Paper index =  4107\n",
      "Similarity score:  1.0\n",
      "SectionName : It was also observed that CP treatment increased BUN and creatinine levels (Sadzuka et al., 1992; Mansour et al., 2002).\n",
      "Cite End:  119\n",
      "Abstact:  It was also observed that CP treatment increased BUN and creatinine levels (Sadzuka et al., 1992; Mansour et al., 2002).\n",
      "Paper ID:  952660f4a305ebc8bc46ea23dd1ea41464d6681f>6b1223f442606ef04c8c04b36f1cdc0efb14c560 \n",
      "\n",
      "8 . Paper index =  4108\n",
      "Similarity score:  1.0\n",
      "SectionName : , 2009) but also induces genes involved in synapse formation andmuscle atrophy (Cohen et al., 2007; Moresi et al., 2010; Tang et al., 2009).\n",
      "Cite End:  140\n",
      "Abstact:  , 2009) but also induces genes involved in synapse formation andmuscle atrophy (Cohen et al., 2007; Moresi et al., 2010; Tang et al., 2009).\n",
      "Paper ID:  fc2fa61db68563e26daafe962633ab2b7e8e8b3d>18dba91edf38fe354fd3a1123737185c841be419 \n",
      "\n",
      "9 . Paper index =  4109\n",
      "Similarity score:  1.0\n",
      "SectionName : Catecholamines, and particularly DA, are believed to increase the efficiency of cortical processing by augmenting the signal to noise (S:N) ratio, or the gain within cortical networks [4,37–39].\n",
      "Cite End:  194\n",
      "Abstact:  Catecholamines, and particularly DA, are believed to increase the efficiency of cortical processing by augmenting the signal to noise (S:N) ratio, or the gain within cortical networks [4,37–39].\n",
      "Paper ID:  6459465b9f73140cfbd1d89f48a1c0795f40b2fa>a6ce5b9263ec014fcbf4d9e7c5e6f15900352f7a \n",
      "\n",
      "10 . Paper index =  1298\n",
      "Similarity score:  1.0\n",
      "SectionName : While in [12] the authors classify memory accesses at page level, we leverage existing cache coherence infrastructure and by adding some more state information to the directory in a cache coherence protocol, classify memory accesses at cache block level.\n",
      "Cite End:  14\n",
      "Abstact:  While in [12] the authors classify memory accesses at page level, we leverage existing cache coherence infrastructure and by adding some more state information to the directory in a cache coherence protocol, classify memory accesses at cache block level.\n",
      "Paper ID:  586db52bed2b3e31e6d386da64cc09f93d6b6032>0ed62848d5c9e01f692c0c0b3851848ac7bb0764 \n",
      "\n"
     ]
    }
   ],
   "source": [
    "paper_recommender(second_features, 2,10)"
   ]
  },
  {
   "cell_type": "code",
   "execution_count": 48,
   "metadata": {},
   "outputs": [
    {
     "data": {
      "text/plain": [
       "array([0.])"
      ]
     },
     "execution_count": 48,
     "metadata": {},
     "output_type": "execute_result"
    }
   ],
   "source": [
    "(1 - cosine_similarity([[1,0]], [[1,0]])).flatten()"
   ]
  },
  {
   "cell_type": "code",
   "execution_count": 49,
   "metadata": {},
   "outputs": [
    {
     "data": {
      "text/plain": [
       "1"
      ]
     },
     "execution_count": 49,
     "metadata": {},
     "output_type": "execute_result"
    }
   ],
   "source": [
    "1 - cosine([1,0], [1,0])"
   ]
  },
  {
   "cell_type": "markdown",
   "metadata": {},
   "source": [
    "<b><h3>Third Pass: More Features = More Information</h3></b>\n",
    "\n",
    "Providing more information about each item can improve the similarity scores and result in better recommendations. The abstract, stored in the 'string' column is a good candidate for tf-idf to filter through the noise and find salient associative words. This would mean that we have applied different feature engineering techniques to different columns: tf-idf to the 'string' column, quantization or binning to the 'citeEnd' column, and bag-of-phrases (one-hot-encoding) to the 'sectionName' column.\n",
    "\n",
    "In the TfidfVectorizer below, we set the sublinear_tf agrument to True and this replaces tf with 1 + log(tf), ensuring that low document frequencies (inverse) are not given too much weight. We also set max_df=0.5, to ignore words that occur in over half of the documents (abstract strings). We can also choose to use one-hot-encoding on citingPaperId and citedPaperId.\n",
    "\n",
    "Continued iteration on more text variables, such as finding the noun phrases of the paper titles or stemming the keywords, could bring us even closer to a best recommendation. It should be noted here that this definition of 'best' is the 'Holy Grail' of all recommenders and search engines alike. We are searching for what a user will find most helpful, which may or may not be directly represented by data. Feature engineering allows us to abstract salient features into representations such that algorithms can expose both the explicit and implicit contained in them."
   ]
  },
  {
   "cell_type": "code",
   "execution_count": 50,
   "metadata": {},
   "outputs": [],
   "source": [
    "# need to fill in NaN for sklearn use in future\n",
    "filled_df = model_df.fillna('None')"
   ]
  },
  {
   "cell_type": "code",
   "execution_count": 52,
   "metadata": {},
   "outputs": [],
   "source": [
    "from sklearn.feature_extraction.text import TfidfVectorizer\n",
    "\n",
    "vectorizer = TfidfVectorizer(sublinear_tf=True, max_df=0.5, stop_words='english')"
   ]
  },
  {
   "cell_type": "code",
   "execution_count": 57,
   "metadata": {},
   "outputs": [],
   "source": [
    "X_abstract = vectorizer.fit_transform(filled_df['string'])"
   ]
  },
  {
   "cell_type": "code",
   "execution_count": 59,
   "metadata": {},
   "outputs": [],
   "source": [
    "third_features = np.append(second_features, X_abstract.toarray(), axis=1)"
   ]
  },
  {
   "cell_type": "code",
   "execution_count": 60,
   "metadata": {},
   "outputs": [
    {
     "data": {
      "text/plain": [
       "Index(['string', 'sectionName', 'label', 'citingPaperId', 'citedPaperId',\n",
       "       'excerpt_index', 'isKeyCitation', 'label2', 'citeEnd', 'citeStart',\n",
       "       'source', 'label_confidence', 'label2_confidence', 'id'],\n",
       "      dtype='object')"
      ]
     },
     "execution_count": 60,
     "metadata": {},
     "output_type": "execute_result"
    }
   ],
   "source": [
    "model_df.columns"
   ]
  },
  {
   "cell_type": "code",
   "execution_count": 61,
   "metadata": {},
   "outputs": [
    {
     "name": "stdout",
     "output_type": "stream",
     "text": [
      "<class 'pandas.core.frame.DataFrame'>\n",
      "RangeIndex: 8194 entries, 0 to 8193\n",
      "Data columns (total 14 columns):\n",
      " #   Column             Non-Null Count  Dtype  \n",
      "---  ------             --------------  -----  \n",
      " 0   string             8194 non-null   object \n",
      " 1   sectionName        7588 non-null   object \n",
      " 2   label              8194 non-null   int64  \n",
      " 3   citingPaperId      8194 non-null   object \n",
      " 4   citedPaperId       8194 non-null   object \n",
      " 5   excerpt_index      8194 non-null   int64  \n",
      " 6   isKeyCitation      8194 non-null   bool   \n",
      " 7   label2             8194 non-null   int64  \n",
      " 8   citeEnd            8194 non-null   int64  \n",
      " 9   citeStart          8194 non-null   int64  \n",
      " 10  source             8194 non-null   int64  \n",
      " 11  label_confidence   8194 non-null   float64\n",
      " 12  label2_confidence  8194 non-null   float64\n",
      " 13  id                 8194 non-null   object \n",
      "dtypes: bool(1), float64(2), int64(6), object(5)\n",
      "memory usage: 840.3+ KB\n"
     ]
    }
   ],
   "source": [
    "model_df.info()"
   ]
  },
  {
   "cell_type": "code",
   "execution_count": 63,
   "metadata": {},
   "outputs": [],
   "source": [
    "X_citedPaperId = pd.get_dummies(model_df.citedPaperId, drop_first=True).values"
   ]
  },
  {
   "cell_type": "code",
   "execution_count": 64,
   "metadata": {},
   "outputs": [],
   "source": [
    "X_citingPaperId = pd.get_dummies(model_df.citingPaperId, drop_first=True).values"
   ]
  },
  {
   "cell_type": "code",
   "execution_count": 66,
   "metadata": {},
   "outputs": [],
   "source": [
    "fourth_features = np.append(third_features, X_citedPaperId, axis=1)"
   ]
  },
  {
   "cell_type": "code",
   "execution_count": 67,
   "metadata": {},
   "outputs": [],
   "source": [
    "fourth_features = np.append(fourth_features, X_citingPaperId, axis=1)"
   ]
  },
  {
   "cell_type": "code",
   "execution_count": 70,
   "metadata": {},
   "outputs": [
    {
     "name": "stdout",
     "output_type": "stream",
     "text": [
      "Based on the paper: \n",
      "Paper index =  2\n",
      "Section Name :  Introduction\n",
      "Cite End:  229\n",
      "Abstact:  The drug also reduces catecholamine secretion, thereby reducing stress and leading to a modest (10-20%) reduction in heart rate and blood pressure, which may be particularly beneficial in patients with cardiovascular disease.(7) Unlike midazolam, dexmedetomidine does not affect the ventilatory response to carbon dioxide.\n",
      "Paper ID:  9cdf605beb1aa1078f235c4332b3024daa8b31dc>4e6a17fb8d7a3cada601d942e22eb5da6d01adbd\n",
      "\n",
      "Top 10 results:\n",
      "1 . Paper index =  1038\n",
      "Similarity score:  1.0\n",
      "SectionName : Duschek and Schandry (2007) reported recently that impaired brain perfusion in hypotension especially in middle cerebral arteries (MCA) can cause cognitive deficits and even depression.\n",
      "Cite End:  28\n",
      "Abstact:  Duschek and Schandry (2007) reported recently that impaired brain perfusion in hypotension especially in middle cerebral arteries (MCA) can cause cognitive deficits and even depression.\n",
      "Paper ID:  922093525a45033663049e16236a2309f0f8c40c>108694d5b1fd1f48ca933ad8720b067689448fd8 \n",
      "\n",
      "2 . Paper index =  4356\n",
      "Similarity score:  1.0\n",
      "SectionName : The ML analysis was carried out using RaxML 7.2.8 (Stamatakis 2006) under the GTR + model of evolution.\n",
      "Cite End:  67\n",
      "Abstact:  The ML analysis was carried out using RaxML 7.2.8 (Stamatakis 2006) under the GTR + model of evolution.\n",
      "Paper ID:  23e30641e0c74d5bf63cd1e3dc99bd31c92c0b6d>cc3c6816ed8cd8115910cc6535b1fca6bdadefb9 \n",
      "\n",
      "3 . Paper index =  4358\n",
      "Similarity score:  1.0\n",
      "SectionName :  Bezeichner: Hierzu gibt es genau eine Instanz des Konzepts Identifier, deren regulärer Ausdruck demjenigen von Bezeichnern der Java Spezifikation [53] entspricht.\n",
      "Cite End:  153\n",
      "Abstact:   Bezeichner: Hierzu gibt es genau eine Instanz des Konzepts Identifier, deren regulärer Ausdruck demjenigen von Bezeichnern der Java Spezifikation [53] entspricht.\n",
      "Paper ID:  2c57a91cacc92e8ff462eabbb5af285f1d6cac62>7ec18f2ab703edad6d866fc4cde9d1b620b4f8ac \n",
      "\n",
      "4 . Paper index =  1290\n",
      "Similarity score:  1.0\n",
      "SectionName : The 2-cluster\n",
      " solution is consistent with prior results that used similar variables for clustering (Bensaou and Venkatraman, 1995).\n",
      "Cite End:  130\n",
      "Abstact:  The 2-cluster\n",
      " solution is consistent with prior results that used similar variables for clustering (Bensaou and Venkatraman, 1995).\n",
      "Paper ID:  50f30fca54f8b4e14d831a1bd096ccb3bd67d01c>882405d750e04e12d873a472394415b99a8f7ff1 \n",
      "\n",
      "5 . Paper index =  4360\n",
      "Similarity score:  1.0\n",
      "SectionName : The argument given in [112] for justifying extensionality is that phi(q) should hold like phi(p) because p and q have the same extension.\n",
      "Cite End:  28\n",
      "Abstact:  The argument given in [112] for justifying extensionality is that phi(q) should hold like phi(p) because p and q have the same extension.\n",
      "Paper ID:  1140b4d267118df59afdcdbecf5ef00558219493>9983bc314c845a4265502072a7f2070b31d94f14 \n",
      "\n",
      "6 . Paper index =  4361\n",
      "Similarity score:  1.0\n",
      "SectionName : Selective attrition analyses revealed no significant differences in project site, race, ethnicity, gender, or child problem behavior (Dishion et al. 2008).\n",
      "Cite End:  154\n",
      "Abstact:  Selective attrition analyses revealed no significant differences in project site, race, ethnicity, gender, or child problem behavior (Dishion et al. 2008).\n",
      "Paper ID:  ce5e40ddeb4fd7949aaeb507a66ac27887d12b95>be59cc09630da876d2dfada6165711f5bd19506f \n",
      "\n",
      "7 . Paper index =  4363\n",
      "Similarity score:  1.0\n",
      "SectionName : These estimates of genetic correlations are within the ranges reported in the literature (Veseth et al., 1993; Wilson et al., 1993; Koots et al., 1994b; Marshall, 1994; Gregory et al., 1995), except for the correlation between fat thickness and hot carcass weight.\n",
      "Cite End:  190\n",
      "Abstact:  These estimates of genetic correlations are within the ranges reported in the literature (Veseth et al., 1993; Wilson et al., 1993; Koots et al., 1994b; Marshall, 1994; Gregory et al., 1995), except for the correlation between fat thickness and hot carcass weight.\n",
      "Paper ID:  8e57985148d6abbb4fc6dce21f8a889ae92431a9>6057cc79cffa4b4e8ace06caeb820480339a4df9 \n",
      "\n",
      "8 . Paper index =  1288\n",
      "Similarity score:  1.0\n",
      "SectionName : Classic classification principles are not able to effectively solve this task since they impose conditional independence among the periods under classification (Tsoumakas and Katakis 2007).\n",
      "Cite End:  188\n",
      "Abstact:  Classic classification principles are not able to effectively solve this task since they impose conditional independence among the periods under classification (Tsoumakas and Katakis 2007).\n",
      "Paper ID:  fb483c006583ffc1fa1fcd9d704f3919a84690ae>37fc340b243cb5fa450ecc2c7ded2bfb819efc27 \n",
      "\n",
      "9 . Paper index =  1287\n",
      "Similarity score:  1.0\n",
      "SectionName : The results of our abscess culture data are consistent with previously published reports [1–7], which suggest that these results are generalizable to the broader population.\n",
      "Cite End:  95\n",
      "Abstact:  The results of our abscess culture data are consistent with previously published reports [1–7], which suggest that these results are generalizable to the broader population.\n",
      "Paper ID:  72284c1d173315dc376ae8faec4ac73e2b0804d6>e111ad86e9371fe5b397b9f9f142f9d002847796 \n",
      "\n",
      "10 . Paper index =  4367\n",
      "Similarity score:  1.0\n",
      "SectionName : With regard to open studies, all of the open studies investigating the cognitive effects of rTMS in depression stimulated the left DLPFC via high frequency rTMS (Triggs et al., 1999; Martis et al., 2003; Fabre et al., 2004; O’Connor et al., 2005; Kuroda et al., 2006; Bloch et al., 2008; Vanderhasselt et al., 2009; Holtzheimer et al., 2010; Harel et al., 2011, in press; Leyman et al., 2011).\n",
      "Cite End:  393\n",
      "Abstact:  With regard to open studies, all of the open studies investigating the cognitive effects of rTMS in depression stimulated the left DLPFC via high frequency rTMS (Triggs et al., 1999; Martis et al., 2003; Fabre et al., 2004; O’Connor et al., 2005; Kuroda et al., 2006; Bloch et al., 2008; Vanderhasselt et al., 2009; Holtzheimer et al., 2010; Harel et al., 2011, in press; Leyman et al., 2011).\n",
      "Paper ID:  d9d512655e9ef7bf1d2898150c1ad7e2964717db>c5a23b594780b11d0671e98624b52c3c97ff3fb6 \n",
      "\n"
     ]
    }
   ],
   "source": [
    "paper_recommender(fourth_features, 2,10)"
   ]
  },
  {
   "cell_type": "markdown",
   "metadata": {},
   "source": [
    "<b><h3>Summary</h3></b>\n",
    "\n",
    "As you can see, building models for machine learning is easy. Building good models for useful results take time and work. We hiked through the messy processes here of examining a collection of possible variables and experimenting with different feature engineering methods to achieve better results. We define 'better' here not just in terms of good outcomes from our training and testing, but also reducing the size of the model and the time it takes us to iterate over different experiments."
   ]
  },
  {
   "cell_type": "code",
   "execution_count": null,
   "metadata": {},
   "outputs": [],
   "source": []
  },
  {
   "cell_type": "code",
   "execution_count": null,
   "metadata": {},
   "outputs": [],
   "source": []
  }
 ],
 "metadata": {
  "kernelspec": {
   "display_name": "base",
   "language": "python",
   "name": "python3"
  },
  "language_info": {
   "codemirror_mode": {
    "name": "ipython",
    "version": 3
   },
   "file_extension": ".py",
   "mimetype": "text/x-python",
   "name": "python",
   "nbconvert_exporter": "python",
   "pygments_lexer": "ipython3",
   "version": "3.8.8"
  },
  "orig_nbformat": 4
 },
 "nbformat": 4,
 "nbformat_minor": 2
}
