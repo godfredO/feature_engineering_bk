{
 "cells": [
  {
   "cell_type": "markdown",
   "metadata": {},
   "source": [
    "<b><h3>The Machine Learning Pipeline</h3></b>"
   ]
  },
  {
   "cell_type": "markdown",
   "metadata": {},
   "source": [
    "<b><h4>Data</h4></b>\n",
    "\n",
    "What we call data are observations of real-world phenomena. For example, stock market data, personal biometric data, customer intelligence data. Each piece of data provides a small window into a limited aspect of reality. The collection of all these observations gives us a picture of the whole. But the picture is messy because it is composed of a thousand little pieces, and there's always measurment noise and missing pieces."
   ]
  },
  {
   "cell_type": "markdown",
   "metadata": {},
   "source": [
    "<b><h4>Tasks</h4></b>\n",
    "Why do we collect data? The reason is because there are questions that data can help us answer - questions like 'Which stocks should I invest in?' or 'How can I live a healthier lifestyle?' or 'How can I understand my customers' changing tastes, so that my business can serve them better?'.\n",
    "\n",
    "The path from data to answers is full of false starts and dead ends. What starts out as a promising approach may not pan out. What was originally just a hunch may end up leading to the best solution. Workflows with data are frequently multistage, iterative processes. "
   ]
  },
  {
   "cell_type": "markdown",
   "metadata": {},
   "source": [
    "<b><h4>Models</h4></b>\n",
    "\n",
    "The language of statistics contains concepts for many frequent characteristics of data, such as wrong, redundant, or missing. Wrong data is the result of a mistake in measurement. Redundant data contains multiple aspects that convey exactly the same information. If some information is not present for some data points, then you've got missing data.\n",
    "\n",
    "A mathematical model of data describes the relationships between different aspects of the data. For instance, a model that predicts stock prices might be a formula that maps a company's earning history, past stock prices, and industry to the predicted stock price. A model that recommends music might measure the similarity between users (based on their listening habits), and recommend the same artists to users who have listened to a lot of the same songs.\n",
    "\n",
    "Mathematical formulas relate numeric quantities to each other. But raw data is often not numeric. There must be a piece that connects the two together. This is where features come in."
   ]
  },
  {
   "cell_type": "markdown",
   "metadata": {},
   "source": [
    "<b><h4>Features</h4></b>\n",
    "\n",
    "A feature is a numeric representation of raw data. Naturally, features must derive from the type of data that is available. Perhaps less obvious is the fact that they are also tied to the model; some models are more appropriate for some types of features, and vice versa. The right features are relevant to the task at hand and should be easy for the model to ingest. Feature engineering is the process of formulating the most appropriate features given the data, the model, and the task. \n",
    "\n",
    "The number of features is also important. If there are not enough informative features, then the model will be unable to perform the ultimate task. If there are too many features, or if most of them are irrelevant, then the model will be more expensive and tricky to train, affecting model performance.\n",
    "\n",
    "Feature engineering is a crucial step in the machine learning pipeline, because the right features can ease the difficulty of modeling, and therefore enable the pipeline to output results of higher quality/"
   ]
  },
  {
   "cell_type": "markdown",
   "metadata": {},
   "source": [
    "<b><h4>Model Evaluation</h4></b>\n",
    "\n",
    "Features and models sit between raw data and the desired insights. In a machine learning workflow, we pick not only the model, but also the features. This is a double-jointed lever, and the choice of one affects the other. Good features make the subsequent modeling step easy and the resulting model more capable of completing the desired task. Bad features may require a much more complicated model to achieve the same level of performance ( the model is now doing some feature engineering under the hood)."
   ]
  },
  {
   "cell_type": "code",
   "execution_count": null,
   "metadata": {},
   "outputs": [],
   "source": []
  }
 ],
 "metadata": {
  "language_info": {
   "name": "python"
  },
  "orig_nbformat": 4
 },
 "nbformat": 4,
 "nbformat_minor": 2
}
